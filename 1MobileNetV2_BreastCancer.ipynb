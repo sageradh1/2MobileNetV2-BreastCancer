{
  "nbformat": 4,
  "nbformat_minor": 0,
  "metadata": {
    "colab": {
      "name": "1MobileNetV2-BreastCancer.ipynb",
      "version": "0.3.2",
      "provenance": [],
      "collapsed_sections": [],
      "toc_visible": true,
      "include_colab_link": true
    },
    "kernelspec": {
      "name": "python3",
      "display_name": "Python 3"
    },
    "accelerator": "GPU"
  },
  "cells": [
    {
      "cell_type": "markdown",
      "metadata": {
        "id": "view-in-github",
        "colab_type": "text"
      },
      "source": [
        "<a href=\"https://colab.research.google.com/github/sageradh1/2MobileNetV2-BreastCancer/blob/master/1MobileNetV2_BreastCancer.ipynb\" target=\"_parent\"><img src=\"https://colab.research.google.com/assets/colab-badge.svg\" alt=\"Open In Colab\"/></a>"
      ]
    },
    {
      "cell_type": "code",
      "metadata": {
        "id": "0-SbhzClPfv1",
        "colab_type": "code",
        "colab": {}
      },
      "source": [
        "mkdir newDirForCancer"
      ],
      "execution_count": 0,
      "outputs": []
    },
    {
      "cell_type": "code",
      "metadata": {
        "id": "us6-vaYFPMUM",
        "colab_type": "code",
        "colab": {}
      },
      "source": [
        "cd newDirForCancer"
      ],
      "execution_count": 0,
      "outputs": []
    },
    {
      "cell_type": "code",
      "metadata": {
        "id": "tGdwtHpWVK7L",
        "colab_type": "code",
        "colab": {}
      },
      "source": [
        "mkdir -p ~/.kaggle/"
      ],
      "execution_count": 0,
      "outputs": []
    },
    {
      "cell_type": "code",
      "metadata": {
        "id": "5SUMMnr8VPzQ",
        "colab_type": "code",
        "colab": {}
      },
      "source": [
        "mv kaggle.json ~/.kaggle/"
      ],
      "execution_count": 0,
      "outputs": []
    },
    {
      "cell_type": "code",
      "metadata": {
        "id": "6p5gcx3Fu1Hk",
        "colab_type": "code",
        "outputId": "1099286a-e92a-4a0d-e94b-e222b0727080",
        "colab": {
          "base_uri": "https://localhost:8080/",
          "height": 72
        }
      },
      "source": [
        "ls -lah"
      ],
      "execution_count": 0,
      "outputs": [
        {
          "output_type": "stream",
          "text": [
            "total 8.0K\n",
            "drwxr-xr-x 2 root root 4.0K Jun 17 07:30 \u001b[0m\u001b[01;34m.\u001b[0m/\n",
            "drwxr-xr-x 1 root root 4.0K Jun 17 07:27 \u001b[01;34m..\u001b[0m/\n"
          ],
          "name": "stdout"
        }
      ]
    },
    {
      "cell_type": "code",
      "metadata": {
        "id": "42DDuxTkvRjU",
        "colab_type": "code",
        "outputId": "169064a5-b035-4246-cad1-b719d56ab6ba",
        "colab": {
          "base_uri": "https://localhost:8080/",
          "height": 110
        }
      },
      "source": [
        "!kaggle datasets download -d paultimothymooney/breast-histopathology-images"
      ],
      "execution_count": 0,
      "outputs": [
        {
          "output_type": "stream",
          "text": [
            "Warning: Your Kaggle API key is readable by other users on this system! To fix this, you can run 'chmod 600 /root/.kaggle/kaggle.json'\n",
            "Downloading breast-histopathology-images.zip to /content/newDirForCancer\n",
            " 99% 1.47G/1.49G [00:16<00:00, 95.5MB/s]\n",
            "100% 1.49G/1.49G [00:16<00:00, 97.7MB/s]\n"
          ],
          "name": "stdout"
        }
      ]
    },
    {
      "cell_type": "code",
      "metadata": {
        "id": "Ei63LPM9vdOd",
        "colab_type": "code",
        "colab": {}
      },
      "source": [
        "!mkdir images"
      ],
      "execution_count": 0,
      "outputs": []
    },
    {
      "cell_type": "code",
      "metadata": {
        "id": "LxoHJA6lvwIx",
        "colab_type": "code",
        "outputId": "f8f6afbe-cc23-4efa-cce2-4d2029e41962",
        "colab": {
          "base_uri": "https://localhost:8080/",
          "height": 35
        }
      },
      "source": [
        "ls"
      ],
      "execution_count": 0,
      "outputs": [
        {
          "output_type": "stream",
          "text": [
            "breast-histopathology-images.zip  \u001b[0m\u001b[01;34mimages\u001b[0m/\n"
          ],
          "name": "stdout"
        }
      ]
    },
    {
      "cell_type": "code",
      "metadata": {
        "id": "KdhJvQRcv7gN",
        "colab_type": "code",
        "colab": {}
      },
      "source": [
        "!unzip -q breast-histopathology-images.zip"
      ],
      "execution_count": 0,
      "outputs": []
    },
    {
      "cell_type": "code",
      "metadata": {
        "id": "NYb2lrVUwGap",
        "colab_type": "code",
        "outputId": "270f4a94-a5a4-40c5-abd6-865d0f26accf",
        "colab": {
          "base_uri": "https://localhost:8080/",
          "height": 35
        }
      },
      "source": [
        "ls -a"
      ],
      "execution_count": 0,
      "outputs": [
        {
          "output_type": "stream",
          "text": [
            "\u001b[0m\u001b[01;34m.\u001b[0m/  \u001b[01;34m..\u001b[0m/  breast-histopathology-images.zip  IDC_regular_ps50_idx5.zip  \u001b[01;34mimages\u001b[0m/\n"
          ],
          "name": "stdout"
        }
      ]
    },
    {
      "cell_type": "code",
      "metadata": {
        "id": "evQz___UwTbB",
        "colab_type": "code",
        "colab": {}
      },
      "source": [
        "!unzip -q IDC_regular_ps50_idx5.zip -d images"
      ],
      "execution_count": 0,
      "outputs": []
    },
    {
      "cell_type": "code",
      "metadata": {
        "id": "YJ4lU3m0wXwx",
        "colab_type": "code",
        "outputId": "1785897f-767d-4c1a-ae54-09920e43f4c0",
        "colab": {
          "base_uri": "https://localhost:8080/",
          "height": 35
        }
      },
      "source": [
        "import numpy as np\n",
        "import keras\n",
        "from keras import backend as K\n",
        "from keras.optimizers import Adam, SGD\n",
        "\n",
        "from keras.layers import Flatten, Dropout, BatchNormalization, Reshape, GlobalAveragePooling2D\n",
        "from keras.layers import Dense, Dropout, Input\n",
        "from keras.applications.mobilenet_v2 import MobileNetV2, preprocess_input\n",
        "\n",
        "from keras.models import Model\n",
        "from keras.callbacks import ReduceLROnPlateau, ModelCheckpoint, LearningRateScheduler\n",
        "\n",
        "from keras.preprocessing.image import ImageDataGenerator\n",
        "\n",
        "from sklearn.metrics import confusion_matrix\n",
        "import itertools\n",
        "import matplotlib.pyplot as plt\n",
        "import pandas as pd\n",
        "\n",
        "from keras.preprocessing import image\n",
        "\n",
        "from sklearn.model_selection import train_test_split\n",
        "from sklearn.utils.class_weight import compute_class_weight\n",
        "\n",
        "import matplotlib.image as mpimg\n",
        "\n",
        "import shutil\n",
        "import os"
      ],
      "execution_count": 0,
      "outputs": [
        {
          "output_type": "stream",
          "text": [
            "Using TensorFlow backend.\n"
          ],
          "name": "stderr"
        }
      ]
    },
    {
      "cell_type": "code",
      "metadata": {
        "id": "WZaYvjwS9nb5",
        "colab_type": "code",
        "colab": {}
      },
      "source": [
        "images_folder = os.listdir(\"images\")"
      ],
      "execution_count": 0,
      "outputs": []
    },
    {
      "cell_type": "code",
      "metadata": {
        "id": "OtAnVbiZ9xik",
        "colab_type": "code",
        "outputId": "1b55c056-65be-4f42-bec4-c7a6542c03d8",
        "colab": {
          "base_uri": "https://localhost:8080/",
          "height": 5090
        }
      },
      "source": [
        "images_folder"
      ],
      "execution_count": 0,
      "outputs": [
        {
          "output_type": "execute_result",
          "data": {
            "text/plain": [
              "['16533',\n",
              " '12751',\n",
              " '14192',\n",
              " '12870',\n",
              " '12820',\n",
              " '12933',\n",
              " '13688',\n",
              " '10259',\n",
              " '9081',\n",
              " '10273',\n",
              " '16551',\n",
              " '9346',\n",
              " '14190',\n",
              " '9173',\n",
              " '15632',\n",
              " '9382',\n",
              " '12871',\n",
              " '14155',\n",
              " '13666',\n",
              " '9260',\n",
              " '9262',\n",
              " '13616',\n",
              " '10282',\n",
              " '13694',\n",
              " '15514',\n",
              " '10304',\n",
              " '9076',\n",
              " '12900',\n",
              " '9044',\n",
              " '10286',\n",
              " '14082',\n",
              " '8955',\n",
              " '12911',\n",
              " '9037',\n",
              " '10261',\n",
              " '12876',\n",
              " '10299',\n",
              " '12810',\n",
              " '12883',\n",
              " '12882',\n",
              " '16534',\n",
              " '14211',\n",
              " '10258',\n",
              " '12892',\n",
              " '9022',\n",
              " '9267',\n",
              " '16555',\n",
              " '14305',\n",
              " '12886',\n",
              " '9043',\n",
              " '13613',\n",
              " '9123',\n",
              " '13692',\n",
              " '13461',\n",
              " '14156',\n",
              " '13022',\n",
              " '14081',\n",
              " '9320',\n",
              " '10302',\n",
              " '12893',\n",
              " '13460',\n",
              " '9126',\n",
              " '14213',\n",
              " '12931',\n",
              " '14157',\n",
              " '14078',\n",
              " '9261',\n",
              " '12879',\n",
              " '9319',\n",
              " '9035',\n",
              " '16085',\n",
              " '12881',\n",
              " '9345',\n",
              " '10268',\n",
              " '9250',\n",
              " '10300',\n",
              " '12880',\n",
              " '9254',\n",
              " '16550',\n",
              " '13462',\n",
              " '9176',\n",
              " '12242',\n",
              " '14212',\n",
              " '12822',\n",
              " '10293',\n",
              " '10288',\n",
              " '12929',\n",
              " '13025',\n",
              " '9225',\n",
              " '15839',\n",
              " '12908',\n",
              " '10292',\n",
              " '12891',\n",
              " '9290',\n",
              " '8867',\n",
              " '9073',\n",
              " '12934',\n",
              " '10307',\n",
              " '12819',\n",
              " '10306',\n",
              " '12949',\n",
              " '12948',\n",
              " '12951',\n",
              " '12878',\n",
              " '15471',\n",
              " '12752',\n",
              " '9383',\n",
              " '12750',\n",
              " '16570',\n",
              " '8984',\n",
              " '12954',\n",
              " '14304',\n",
              " '9291',\n",
              " '9344',\n",
              " '8974',\n",
              " '15473',\n",
              " '16554',\n",
              " '15516',\n",
              " '12868',\n",
              " '14210',\n",
              " '9255',\n",
              " '10269',\n",
              " '9321',\n",
              " '12823',\n",
              " '15633',\n",
              " '15510',\n",
              " '8951',\n",
              " '13591',\n",
              " '12826',\n",
              " '12884',\n",
              " '12817',\n",
              " '10264',\n",
              " '13024',\n",
              " '16014',\n",
              " '13106',\n",
              " '9124',\n",
              " '10254',\n",
              " '10291',\n",
              " '9381',\n",
              " '15472',\n",
              " '12626',\n",
              " '9077',\n",
              " '13687',\n",
              " '13018',\n",
              " '9322',\n",
              " '15512',\n",
              " '14079',\n",
              " '16552',\n",
              " '9227',\n",
              " '13916',\n",
              " '12749',\n",
              " '12241',\n",
              " '13458',\n",
              " '10276',\n",
              " '14321',\n",
              " '14306',\n",
              " '14154',\n",
              " '9265',\n",
              " '10279',\n",
              " '16568',\n",
              " '9174',\n",
              " '12811',\n",
              " '14189',\n",
              " '8975',\n",
              " '15513',\n",
              " '15903',\n",
              " '8865',\n",
              " '10290',\n",
              " '10272',\n",
              " '12748',\n",
              " '12875',\n",
              " '14153',\n",
              " '8914',\n",
              " '13693',\n",
              " '12935',\n",
              " '10255',\n",
              " '12872',\n",
              " '16895',\n",
              " '12890',\n",
              " '10277',\n",
              " '12907',\n",
              " '13400',\n",
              " '9075',\n",
              " '16165',\n",
              " '9324',\n",
              " '15634',\n",
              " '12930',\n",
              " '9325',\n",
              " '10262',\n",
              " '12869',\n",
              " '9125',\n",
              " '8959',\n",
              " '15515',\n",
              " '10278',\n",
              " '12894',\n",
              " '9347',\n",
              " '9178',\n",
              " '8918',\n",
              " '10253',\n",
              " '12818',\n",
              " '12910',\n",
              " '12821',\n",
              " '13459',\n",
              " '12896',\n",
              " '8917',\n",
              " '13019',\n",
              " '8957',\n",
              " '13020',\n",
              " '9177',\n",
              " '16569',\n",
              " '9266',\n",
              " '8980',\n",
              " '9259',\n",
              " '14188',\n",
              " '10308',\n",
              " '13403',\n",
              " '9083',\n",
              " '12909',\n",
              " '10285',\n",
              " '15840',\n",
              " '12873',\n",
              " '15902',\n",
              " '10256',\n",
              " '9256',\n",
              " '10275',\n",
              " '9029',\n",
              " '10303',\n",
              " '16532',\n",
              " '8864',\n",
              " '13021',\n",
              " '13617',\n",
              " '14191',\n",
              " '13023',\n",
              " '9323',\n",
              " '9257',\n",
              " '8863',\n",
              " '16896',\n",
              " '13689',\n",
              " '9036',\n",
              " '12955',\n",
              " '13402',\n",
              " '10274',\n",
              " '10305',\n",
              " '14209',\n",
              " '8956',\n",
              " '12877',\n",
              " '12824',\n",
              " '13404',\n",
              " '12906',\n",
              " '12905',\n",
              " '12932',\n",
              " '8950',\n",
              " '9228',\n",
              " '12895',\n",
              " '9226',\n",
              " '10301',\n",
              " '16167',\n",
              " '12901',\n",
              " '9023',\n",
              " '12947',\n",
              " '13401',\n",
              " '12867',\n",
              " '12898',\n",
              " '9078',\n",
              " '9258',\n",
              " '16531',\n",
              " '9181',\n",
              " '9135',\n",
              " '10295',\n",
              " '12897',\n",
              " '8916',\n",
              " '10260',\n",
              " '13691',\n",
              " '10257',\n",
              " '16166',\n",
              " '16553',\n",
              " '9041',\n",
              " '8913',\n",
              " '9175']"
            ]
          },
          "metadata": {
            "tags": []
          },
          "execution_count": 15
        }
      ]
    },
    {
      "cell_type": "code",
      "metadata": {
        "id": "NALJTbXG99Wi",
        "colab_type": "code",
        "outputId": "b02f1859-64a6-4716-d984-376df789149f",
        "colab": {
          "base_uri": "https://localhost:8080/",
          "height": 393
        }
      },
      "source": [
        "first_folder = images_folder[0]\n",
        "benign_images_first_folder = f'images/{first_folder}/0'\n",
        "benign_images = os.listdir(benign_images_first_folder)[0:3]\n",
        "malignant_images_first_folder = f'images/{first_folder}/1'\n",
        "malignant_images = os.listdir(malignant_images_first_folder)[0:3]\n",
        "\n",
        "def plot_images(image_index, folder_name, image_name, title):\n",
        "  sp = figure.add_subplot(2, 3, image_index + 1)\n",
        "  sp.axis('Off')\n",
        "  image_path = f'{folder_name}/{image_name}'\n",
        "  image_loaded = img=mpimg.imread(image_path)\n",
        "  sp.set_title(title, fontsize=16)\n",
        "  plt.imshow(image_loaded, interpolation=None)\n",
        "\n",
        "figure = plt.figure(figsize=(12, 6))\n",
        "\n",
        "for image_index, image_name in enumerate(benign_images):\n",
        "  plot_images(image_index, benign_images_first_folder, image_name, \"Benign\")\n",
        "\n",
        "for image_index, image_name in enumerate(malignant_images):\n",
        "  plot_images(image_index + 3, malignant_images_first_folder, image_name, \"Malignant\")"
      ],
      "execution_count": 0,
      "outputs": [
        {
          "output_type": "display_data",
          "data": {
            "image/png": "[encoded data removed]",
            "text/plain": [
              "<Figure size 864x432 with 6 Axes>"
            ]
          },
          "metadata": {
            "tags": []
          }
        }
      ]
    },
    {
      "cell_type": "code",
      "metadata": {
        "id": "9CiAJcQ__c4A",
        "colab_type": "code",
        "colab": {}
      },
      "source": [
        "!mkdir training && mkdir validation"
      ],
      "execution_count": 0,
      "outputs": []
    },
    {
      "cell_type": "code",
      "metadata": {
        "id": "BV1Yxeo7_f5N",
        "colab_type": "code",
        "colab": {}
      },
      "source": [
        "!mkdir training/benign && mkdir training/malignant"
      ],
      "execution_count": 0,
      "outputs": []
    },
    {
      "cell_type": "code",
      "metadata": {
        "id": "fek59ppE_mP4",
        "colab_type": "code",
        "colab": {}
      },
      "source": [
        "!mkdir validation/benign && mkdir validation/malignant"
      ],
      "execution_count": 0,
      "outputs": []
    },
    {
      "cell_type": "code",
      "metadata": {
        "id": "HZb2uwO__oJT",
        "colab_type": "code",
        "colab": {}
      },
      "source": [
        "benign_images_training_folder_name = \"training/benign\"\n",
        "malignant_images_training_folder_name = \"training/malignant\""
      ],
      "execution_count": 0,
      "outputs": []
    },
    {
      "cell_type": "code",
      "metadata": {
        "id": "OIn6Dsmh_2fG",
        "colab_type": "code",
        "colab": {}
      },
      "source": [
        "for folder in images_folder:\n",
        "  benign_folder = os.listdir(f'images/{folder}/0')\n",
        "  malignant_folder = os.listdir(f'images/{folder}/1')\n",
        "  \n",
        "  for benign_image in benign_folder:\n",
        "    image_url = f'images/{folder}/0/{benign_image}'\n",
        "    shutil.move(image_url, benign_images_training_folder_name)\n",
        "    \n",
        "  for malign_image in malignant_folder:\n",
        "    image_url = f'images/{folder}/1/{malign_image}'\n",
        "    shutil.move(image_url, malignant_images_training_folder_name)"
      ],
      "execution_count": 0,
      "outputs": []
    },
    {
      "cell_type": "code",
      "metadata": {
        "id": "lzx4vx-P_4xU",
        "colab_type": "code",
        "colab": {}
      },
      "source": [
        "benign_images = len(os.listdir(benign_images_training_folder_name))\n",
        "malignant_images = len(os.listdir(malignant_images_training_folder_name))\n",
        "total_images =  benign_images + malignant_images"
      ],
      "execution_count": 0,
      "outputs": []
    },
    {
      "cell_type": "code",
      "metadata": {
        "id": "cHiyDl_DAg49",
        "colab_type": "code",
        "outputId": "0ede8058-3f99-40a3-9343-b0165289614f",
        "colab": {
          "base_uri": "https://localhost:8080/",
          "height": 72
        }
      },
      "source": [
        "print(f'Total images: {total_images}')\n",
        "print(f'Benign images: {benign_images}')\n",
        "print(f'Malignant images: {malignant_images}')"
      ],
      "execution_count": 0,
      "outputs": [
        {
          "output_type": "stream",
          "text": [
            "Total images: 277524\n",
            "Benign images: 198738\n",
            "Malignant images: 78786\n"
          ],
          "name": "stdout"
        }
      ]
    },
    {
      "cell_type": "code",
      "metadata": {
        "id": "0_CbmlQ4AiFI",
        "colab_type": "code",
        "colab": {}
      },
      "source": [
        "validation_size = 0.20\n",
        "\n",
        "benign_validation_folder_size = int(benign_images * 0.20)\n",
        "malignant_validation_folder_size = int(malignant_images * 0.20)"
      ],
      "execution_count": 0,
      "outputs": []
    },
    {
      "cell_type": "code",
      "metadata": {
        "id": "cp1t9XqTA7-E",
        "colab_type": "code",
        "outputId": "9e9c3c9b-4c92-4fc4-b94d-2ca6e4ce6445",
        "colab": {
          "base_uri": "https://localhost:8080/",
          "height": 54
        }
      },
      "source": [
        "print(f'Benign validation size: {benign_validation_folder_size}')\n",
        "print(f'Malignant validation size: {malignant_validation_folder_size}')"
      ],
      "execution_count": 0,
      "outputs": [
        {
          "output_type": "stream",
          "text": [
            "Benign validation size: 39747\n",
            "Malignant validation size: 15757\n"
          ],
          "name": "stdout"
        }
      ]
    },
    {
      "cell_type": "code",
      "metadata": {
        "id": "Ku-PhOHiC2Dl",
        "colab_type": "code",
        "colab": {}
      },
      "source": [
        "benign_images_validation_folder_name = \"validation/benign\"\n",
        "malignant_images_validation_folder_name = \"validation/malignant\""
      ],
      "execution_count": 0,
      "outputs": []
    },
    {
      "cell_type": "code",
      "metadata": {
        "id": "SOZtxZJ7C8DQ",
        "colab_type": "code",
        "colab": {}
      },
      "source": [
        "benign_images_training_folder = os.listdir(benign_images_training_folder_name)\n",
        "malignant_images_training_folder = os.listdir(malignant_images_training_folder_name)\n",
        "\n",
        "for image_name in benign_images_training_folder[:benign_validation_folder_size]:\n",
        "  image_url = f'{benign_images_training_folder_name}/{image_name}'\n",
        "  shutil.move(image_url, benign_images_validation_folder_name)\n",
        "  \n",
        "for image_name in malignant_images_training_folder[:malignant_validation_folder_size]:\n",
        "  image_url = f'{malignant_images_training_folder_name}/{image_name}'\n",
        "  shutil.move(image_url, malignant_images_validation_folder_name)"
      ],
      "execution_count": 0,
      "outputs": []
    },
    {
      "cell_type": "markdown",
      "metadata": {
        "id": "wbIRUqBtZul6",
        "colab_type": "text"
      },
      "source": [
        ""
      ]
    },
    {
      "cell_type": "code",
      "metadata": {
        "id": "3VHiEemHD00x",
        "colab_type": "code",
        "colab": {}
      },
      "source": [
        "training_folder_size = len(os.listdir(benign_images_training_folder_name)) + len(os.listdir(malignant_images_training_folder_name))\n",
        "validation_folder_size = len(os.listdir(benign_images_validation_folder_name)) + len(os.listdir(malignant_images_validation_folder_name))"
      ],
      "execution_count": 0,
      "outputs": []
    },
    {
      "cell_type": "code",
      "metadata": {
        "id": "-rLfpoCWEDBM",
        "colab_type": "code",
        "outputId": "e015422d-39b1-4d75-9e83-89931725fb15",
        "colab": {
          "base_uri": "https://localhost:8080/",
          "height": 54
        }
      },
      "source": [
        "print(f'Training folder size: {training_folder_size}')\n",
        "print(f'Validation folder size: {validation_folder_size}')"
      ],
      "execution_count": 0,
      "outputs": [
        {
          "output_type": "stream",
          "text": [
            "Training folder size: 222020\n",
            "Validation folder size: 55504\n"
          ],
          "name": "stdout"
        }
      ]
    },
    {
      "cell_type": "code",
      "metadata": {
        "id": "avZanFtNEg9x",
        "colab_type": "code",
        "colab": {}
      },
      "source": [
        "batch_size = 128\n",
        "img_size = 48\n",
        "input_img_size = (48, 48, 3)\n",
        "num_classes = 2"
      ],
      "execution_count": 0,
      "outputs": []
    },
    {
      "cell_type": "code",
      "metadata": {
        "id": "qskgU64kE5ai",
        "colab_type": "code",
        "outputId": "df6d127e-6e3f-4b2c-dfac-b13921fb754a",
        "colab": {
          "base_uri": "https://localhost:8080/",
          "height": 54
        }
      },
      "source": [
        "train_generator = ImageDataGenerator(\n",
        "    preprocessing_function=preprocess_input,\n",
        "    rotation_range=20,\n",
        "    zoom_range=0.05,\n",
        "    width_shift_range=0.05,\n",
        "    height_shift_range=0.05,\n",
        "    shear_range=0.05,\n",
        "    horizontal_flip=True,\n",
        "    fill_mode=\"nearest\").flow_from_directory(\n",
        "    \"training\",\n",
        "    target_size=(img_size, img_size),\n",
        "    color_mode=\"rgb\",\n",
        "\t  shuffle=True,\n",
        "    batch_size=batch_size)\n",
        "\n",
        "val_generator = ImageDataGenerator(\n",
        "    preprocessing_function=preprocess_input).flow_from_directory(\n",
        "    \"validation\",\n",
        "    target_size=(img_size, img_size),\n",
        "    color_mode=\"rgb\",\n",
        "\t  shuffle=False,\n",
        "    batch_size=batch_size)"
      ],
      "execution_count": 0,
      "outputs": [
        {
          "output_type": "stream",
          "text": [
            "Found 222020 images belonging to 2 classes.\n",
            "Found 55504 images belonging to 2 classes.\n"
          ],
          "name": "stdout"
        }
      ]
    },
    {
      "cell_type": "code",
      "metadata": {
        "id": "L3qcF0C3E-4z",
        "colab_type": "code",
        "colab": {}
      },
      "source": [
        "train_steps = int(training_folder_size // batch_size)\n",
        "val_steps = int(validation_folder_size // batch_size)"
      ],
      "execution_count": 0,
      "outputs": []
    },
    {
      "cell_type": "code",
      "metadata": {
        "id": "8m5-Kv_L9u5k",
        "colab_type": "code",
        "outputId": "fc606a29-297b-4e59-f945-295d57c38435",
        "colab": {
          "base_uri": "https://localhost:8080/",
          "height": 35
        }
      },
      "source": [
        "train_steps, val_steps"
      ],
      "execution_count": 0,
      "outputs": [
        {
          "output_type": "execute_result",
          "data": {
            "text/plain": [
              "(1734, 433)"
            ]
          },
          "metadata": {
            "tags": []
          },
          "execution_count": 33
        }
      ]
    },
    {
      "cell_type": "code",
      "metadata": {
        "id": "1Ns3nbau9vlb",
        "colab_type": "code",
        "colab": {}
      },
      "source": [
        "def create_model():\n",
        "  input_tensor = Input(shape=input_img_size)\n",
        "  \n",
        "  mobile_model = MobileNetV2(\n",
        "       weights=None,\n",
        "       input_tensor=input_tensor,\n",
        "       input_shape=input_img_size,\n",
        "       alpha=1.5,\n",
        "       include_top=False)\n",
        "  \n",
        "  for layer in mobile_model.layers:\n",
        "    layer.trainable = True\n",
        "  \n",
        "  mobile_model_output = mobile_model.output\n",
        "  classification_layer = Flatten()(mobile_model_output)\n",
        "  classification_layer = Dense(256, activation='relu')(classification_layer)\n",
        "  classification_layer = Dropout(0.5)(classification_layer)\n",
        "  predictions = Dense(activation=\"softmax\", units=num_classes)(classification_layer)\n",
        "\n",
        "  model = Model(inputs=input_tensor, outputs=predictions)\n",
        "  \n",
        "  return model"
      ],
      "execution_count": 0,
      "outputs": []
    },
    {
      "cell_type": "code",
      "metadata": {
        "id": "Rg3Mv0-c9zQM",
        "colab_type": "code",
        "colab": {}
      },
      "source": [
        "learning_rate = 3e-4\n",
        "epochs = 20"
      ],
      "execution_count": 0,
      "outputs": []
    },
    {
      "cell_type": "code",
      "metadata": {
        "id": "lICV7MHFC8El",
        "colab_type": "code",
        "colab": {}
      },
      "source": [
        "def polynomial_decay(epoch):\n",
        "\tpower = 1.0\n",
        " \n",
        "\talpha = learning_rate * (1 - (epoch / float(epochs))) ** power\n",
        "\treturn alpha"
      ],
      "execution_count": 0,
      "outputs": []
    },
    {
      "cell_type": "code",
      "metadata": {
        "id": "TjPn9VDGDCJu",
        "colab_type": "code",
        "colab": {}
      },
      "source": [
        "y_true = np.concatenate((val_generator.classes, train_generator.classes))"
      ],
      "execution_count": 0,
      "outputs": []
    },
    {
      "cell_type": "code",
      "metadata": {
        "id": "x-AU9hvnDH7W",
        "colab_type": "code",
        "colab": {}
      },
      "source": [
        "cw = compute_class_weight('balanced', np.unique(y_true), y_true)"
      ],
      "execution_count": 0,
      "outputs": []
    },
    {
      "cell_type": "code",
      "metadata": {
        "id": "2-UZaigwDJYd",
        "colab_type": "code",
        "outputId": "92da1569-4de4-4b9b-e717-df797a6e8f72",
        "colab": {
          "base_uri": "https://localhost:8080/",
          "height": 35
        }
      },
      "source": [
        "y_true"
      ],
      "execution_count": 0,
      "outputs": [
        {
          "output_type": "execute_result",
          "data": {
            "text/plain": [
              "array([0, 0, 0, ..., 1, 1, 1], dtype=int32)"
            ]
          },
          "metadata": {
            "tags": []
          },
          "execution_count": 39
        }
      ]
    },
    {
      "cell_type": "code",
      "metadata": {
        "id": "0Et3CAdbDN8-",
        "colab_type": "code",
        "outputId": "28d519ff-b725-4497-b2e9-46cf6e3b4b4a",
        "colab": {
          "base_uri": "https://localhost:8080/",
          "height": 35
        }
      },
      "source": [
        "cw"
      ],
      "execution_count": 0,
      "outputs": [
        {
          "output_type": "execute_result",
          "data": {
            "text/plain": [
              "array([0.69821574, 1.761252  ])"
            ]
          },
          "metadata": {
            "tags": []
          },
          "execution_count": 40
        }
      ]
    },
    {
      "cell_type": "code",
      "metadata": {
        "id": "wM6VLKc0DRtW",
        "colab_type": "code",
        "colab": {}
      },
      "source": [
        "class_weights = {index: weight for index, weight in enumerate(cw)}"
      ],
      "execution_count": 0,
      "outputs": []
    },
    {
      "cell_type": "code",
      "metadata": {
        "id": "l5iEO71rDXB1",
        "colab_type": "code",
        "outputId": "e2e0036c-1c51-4792-c945-f47dfbdd2cd3",
        "colab": {
          "base_uri": "https://localhost:8080/",
          "height": 35
        }
      },
      "source": [
        "class_weights"
      ],
      "execution_count": 0,
      "outputs": [
        {
          "output_type": "execute_result",
          "data": {
            "text/plain": [
              "{0: 0.6982157413277783, 1: 1.761251999086132}"
            ]
          },
          "metadata": {
            "tags": []
          },
          "execution_count": 42
        }
      ]
    },
    {
      "cell_type": "code",
      "metadata": {
        "id": "CHn55cBeDZdG",
        "colab_type": "code",
        "colab": {}
      },
      "source": [
        "weights_name = \"epoch={epoch:02d}|accuracy={val_acc:.4f}.h5\"\n",
        "\n",
        "checkpoint = ModelCheckpoint(weights_name, monitor=\"val_acc\", verbose=1, save_best_only=True,\n",
        "                                 save_weights_only=True, mode=\"max\", period=1)\n",
        "\n",
        "lr_decay = LearningRateScheduler(polynomial_decay)\n",
        "\n",
        "optimizer = SGD(lr=learning_rate, momentum=0.9)"
      ],
      "execution_count": 0,
      "outputs": []
    },
    {
      "cell_type": "code",
      "metadata": {
        "id": "gRs4yRyvInJO",
        "colab_type": "code",
        "outputId": "09d1abe3-b71d-4969-fa02-6b7fd093642c",
        "colab": {
          "base_uri": "https://localhost:8080/",
          "height": 419
        }
      },
      "source": [
        "model = create_model()\n",
        "model.compile(loss='binary_crossentropy', optimizer=optimizer, metrics=['acc'])"
      ],
      "execution_count": 0,
      "outputs": [
        {
          "output_type": "stream",
          "text": [
            "WARNING: Logging before flag parsing goes to stderr.\n",
            "W0617 07:33:01.676566 140002491094912 deprecation_wrapper.py:119] From /usr/local/lib/python3.6/dist-packages/keras/backend/tensorflow_backend.py:74: The name tf.get_default_graph is deprecated. Please use tf.compat.v1.get_default_graph instead.\n",
            "\n",
            "W0617 07:33:01.680333 140002491094912 deprecation_wrapper.py:119] From /usr/local/lib/python3.6/dist-packages/keras/backend/tensorflow_backend.py:517: The name tf.placeholder is deprecated. Please use tf.compat.v1.placeholder instead.\n",
            "\n",
            "W0617 07:33:01.695559 140002491094912 deprecation_wrapper.py:119] From /usr/local/lib/python3.6/dist-packages/keras/backend/tensorflow_backend.py:4138: The name tf.random_uniform is deprecated. Please use tf.random.uniform instead.\n",
            "\n",
            "W0617 07:33:01.729994 140002491094912 deprecation_wrapper.py:119] From /usr/local/lib/python3.6/dist-packages/keras/backend/tensorflow_backend.py:174: The name tf.get_default_session is deprecated. Please use tf.compat.v1.get_default_session instead.\n",
            "\n",
            "W0617 07:33:01.730872 140002491094912 deprecation_wrapper.py:119] From /usr/local/lib/python3.6/dist-packages/keras/backend/tensorflow_backend.py:181: The name tf.ConfigProto is deprecated. Please use tf.compat.v1.ConfigProto instead.\n",
            "\n",
            "W0617 07:33:04.846146 140002491094912 deprecation_wrapper.py:119] From /usr/local/lib/python3.6/dist-packages/keras/backend/tensorflow_backend.py:1834: The name tf.nn.fused_batch_norm is deprecated. Please use tf.compat.v1.nn.fused_batch_norm instead.\n",
            "\n",
            "W0617 07:33:09.560030 140002491094912 deprecation.py:506] From /usr/local/lib/python3.6/dist-packages/keras/backend/tensorflow_backend.py:3445: calling dropout (from tensorflow.python.ops.nn_ops) with keep_prob is deprecated and will be removed in a future version.\n",
            "Instructions for updating:\n",
            "Please use `rate` instead of `keep_prob`. Rate should be set to `rate = 1 - keep_prob`.\n",
            "W0617 07:33:09.592779 140002491094912 deprecation_wrapper.py:119] From /usr/local/lib/python3.6/dist-packages/keras/optimizers.py:790: The name tf.train.Optimizer is deprecated. Please use tf.compat.v1.train.Optimizer instead.\n",
            "\n",
            "W0617 07:33:09.603886 140002491094912 deprecation.py:323] From /usr/local/lib/python3.6/dist-packages/tensorflow/python/ops/nn_impl.py:180: add_dispatch_support.<locals>.wrapper (from tensorflow.python.ops.array_ops) is deprecated and will be removed in a future version.\n",
            "Instructions for updating:\n",
            "Use tf.where in 2.0, which has the same broadcast rule as np.where\n"
          ],
          "name": "stderr"
        }
      ]
    },
    {
      "cell_type": "code",
      "metadata": {
        "id": "sXYsFXSPIxlv",
        "colab_type": "code",
        "outputId": "0d6277ca-ee50-4df2-a8a1-282feddc01f4",
        "colab": {
          "base_uri": "https://localhost:8080/",
          "height": 1492
        }
      },
      "source": [
        "trained_model = model.fit_generator(train_generator,\n",
        "                        epochs=epochs,\n",
        "                        class_weight=class_weights,\n",
        "                        steps_per_epoch=train_steps,\n",
        "                        callbacks=[checkpoint, lr_decay],\n",
        "                        validation_data=val_generator,\n",
        "                        validation_steps=val_steps,\n",
        "                        verbose=1)"
      ],
      "execution_count": 0,
      "outputs": [
        {
          "output_type": "stream",
          "text": [
            "Epoch 1/20\n",
            "1734/1734 [==============================] - 332s 191ms/step - loss: 0.4554 - acc: 0.8015 - val_loss: 0.4827 - val_acc: 0.8045\n",
            "\n",
            "Epoch 00001: val_acc improved from -inf to 0.80447, saving model to epoch=01|accuracy=0.8045.h5\n",
            "Epoch 2/20\n",
            "1734/1734 [==============================] - 309s 178ms/step - loss: 0.3974 - acc: 0.8296 - val_loss: 0.3855 - val_acc: 0.8310\n",
            "\n",
            "Epoch 00002: val_acc improved from 0.80447 to 0.83105, saving model to epoch=02|accuracy=0.8310.h5\n",
            "Epoch 3/20\n",
            "1734/1734 [==============================] - 310s 179ms/step - loss: 0.3802 - acc: 0.8349 - val_loss: 0.4913 - val_acc: 0.7778\n",
            "\n",
            "Epoch 00003: val_acc did not improve from 0.83105\n",
            "Epoch 4/20\n",
            "1734/1734 [==============================] - 311s 180ms/step - loss: 0.3669 - acc: 0.8411 - val_loss: 0.3693 - val_acc: 0.8357\n",
            "\n",
            "Epoch 00004: val_acc improved from 0.83105 to 0.83565, saving model to epoch=04|accuracy=0.8357.h5\n",
            "Epoch 5/20\n",
            "1734/1734 [==============================] - 313s 180ms/step - loss: 0.3564 - acc: 0.8464 - val_loss: 0.4148 - val_acc: 0.8172\n",
            "\n",
            "Epoch 00005: val_acc did not improve from 0.83565\n",
            "Epoch 6/20\n",
            "1734/1734 [==============================] - 312s 180ms/step - loss: 0.3512 - acc: 0.8478 - val_loss: 0.4362 - val_acc: 0.8097\n",
            "\n",
            "Epoch 00006: val_acc did not improve from 0.83565\n",
            "Epoch 7/20\n",
            "1734/1734 [==============================] - 314s 181ms/step - loss: 0.3460 - acc: 0.8500 - val_loss: 0.4121 - val_acc: 0.8155\n",
            "\n",
            "Epoch 00007: val_acc did not improve from 0.83565\n",
            "Epoch 8/20\n",
            "1734/1734 [==============================] - 311s 179ms/step - loss: 0.3418 - acc: 0.8511 - val_loss: 0.3629 - val_acc: 0.8580\n",
            "\n",
            "Epoch 00008: val_acc improved from 0.83565 to 0.85801, saving model to epoch=08|accuracy=0.8580.h5\n",
            "Epoch 9/20\n",
            "1734/1734 [==============================] - 312s 180ms/step - loss: 0.3395 - acc: 0.8524 - val_loss: 0.3608 - val_acc: 0.8437\n",
            "\n",
            "Epoch 00009: val_acc did not improve from 0.85801\n",
            "Epoch 10/20\n",
            "1734/1734 [==============================] - 318s 183ms/step - loss: 0.3366 - acc: 0.8542 - val_loss: 0.3768 - val_acc: 0.8395\n",
            "\n",
            "Epoch 00010: val_acc did not improve from 0.85801\n",
            "Epoch 11/20\n",
            "1734/1734 [==============================] - 315s 181ms/step - loss: 0.3351 - acc: 0.8551 - val_loss: 0.3645 - val_acc: 0.8436\n",
            "\n",
            "Epoch 00011: val_acc did not improve from 0.85801\n",
            "Epoch 12/20\n",
            "1734/1734 [==============================] - 315s 182ms/step - loss: 0.3324 - acc: 0.8555 - val_loss: 0.3937 - val_acc: 0.8261\n",
            "\n",
            "Epoch 00012: val_acc did not improve from 0.85801\n",
            "Epoch 13/20\n",
            "1734/1734 [==============================] - 316s 182ms/step - loss: 0.3325 - acc: 0.8560 - val_loss: 0.3205 - val_acc: 0.8599\n",
            "\n",
            "Epoch 00013: val_acc improved from 0.85801 to 0.85990, saving model to epoch=13|accuracy=0.8599.h5\n",
            "Epoch 14/20\n",
            "1734/1734 [==============================] - 318s 184ms/step - loss: 0.3299 - acc: 0.8570 - val_loss: 0.3261 - val_acc: 0.8611\n",
            "\n",
            "Epoch 00014: val_acc improved from 0.85990 to 0.86106, saving model to epoch=14|accuracy=0.8611.h5\n",
            "Epoch 15/20\n",
            "1734/1734 [==============================] - 320s 184ms/step - loss: 0.3295 - acc: 0.8581 - val_loss: 0.3238 - val_acc: 0.8606\n",
            "\n",
            "Epoch 00015: val_acc did not improve from 0.86106\n",
            "Epoch 16/20\n",
            "1734/1734 [==============================] - 320s 184ms/step - loss: 0.3272 - acc: 0.8579 - val_loss: 0.3164 - val_acc: 0.8632\n",
            "\n",
            "Epoch 00016: val_acc improved from 0.86106 to 0.86319, saving model to epoch=16|accuracy=0.8632.h5\n",
            "Epoch 17/20\n",
            "1734/1734 [==============================] - 321s 185ms/step - loss: 0.3275 - acc: 0.8577 - val_loss: 0.3120 - val_acc: 0.8650\n",
            "\n",
            "Epoch 00017: val_acc improved from 0.86319 to 0.86505, saving model to epoch=17|accuracy=0.8650.h5\n",
            "Epoch 18/20\n",
            "1734/1734 [==============================] - 319s 184ms/step - loss: 0.3252 - acc: 0.8582 - val_loss: 0.3113 - val_acc: 0.8653\n",
            "\n",
            "Epoch 00018: val_acc improved from 0.86505 to 0.86530, saving model to epoch=18|accuracy=0.8653.h5\n",
            "Epoch 19/20\n",
            "1734/1734 [==============================] - 323s 187ms/step - loss: 0.3245 - acc: 0.8584 - val_loss: 0.3264 - val_acc: 0.8582\n",
            "\n",
            "Epoch 00019: val_acc did not improve from 0.86530\n",
            "Epoch 20/20\n",
            "1734/1734 [==============================] - 327s 188ms/step - loss: 0.3232 - acc: 0.8586 - val_loss: 0.3263 - val_acc: 0.8577\n",
            "\n",
            "Epoch 00020: val_acc did not improve from 0.86530\n"
          ],
          "name": "stdout"
        }
      ]
    },
    {
      "cell_type": "markdown",
      "metadata": {
        "id": "HUG5Ot-zx8Ur",
        "colab_type": "text"
      },
      "source": [
        ""
      ]
    },
    {
      "cell_type": "code",
      "metadata": {
        "id": "QAMo2Rthx8mq",
        "colab_type": "code",
        "colab": {}
      },
      "source": [
        "def plot_validation_training(metric, trained_model):\n",
        "  validation_metric = trained_model.history[f'val_{metric}']\n",
        "  training_metric = trained_model.history[metric]\n",
        "  epochs = range(len(training_metric))\n",
        "  plt.plot(epochs, training_metric, 'b', label=f'Training {metric}')\n",
        "  plt.plot(epochs, validation_metric, 'r', label=f'Validation {metric}')\n",
        "  plt.ylim(bottom=0)\n",
        "  plt.xlabel('Epochs ', fontsize=16)\n",
        "  plt.ylabel(metric, fontsize=16)\n",
        "  loc = 'upper right' if metric == \"loss\" else 'lower right'\n",
        "  plt.legend(loc=loc)\n",
        "  plt.title(f'Training and validation {metric}', fontsize = 20)\n",
        "  plt.show()"
      ],
      "execution_count": 0,
      "outputs": []
    },
    {
      "cell_type": "code",
      "metadata": {
        "id": "M1tnTUYWyDRL",
        "colab_type": "code",
        "outputId": "de5e59b2-306b-4174-e6aa-99f75f78a647",
        "colab": {
          "base_uri": "https://localhost:8080/",
          "height": 324
        }
      },
      "source": [
        "plot_validation_training(\"loss\", trained_model)"
      ],
      "execution_count": 0,
      "outputs": [
        {
          "output_type": "stream",
          "text": [
            "20\n"
          ],
          "name": "stdout"
        },
        {
          "output_type": "display_data",
          "data": {
            "image/png": "[encoded data removed]",
            "text/plain": [
              "<Figure size 432x288 with 1 Axes>"
            ]
          },
          "metadata": {
            "tags": []
          }
        }
      ]
    },
    {
      "cell_type": "code",
      "metadata": {
        "id": "lh1qWn3ByF8c",
        "colab_type": "code",
        "outputId": "d1be574f-405b-46ab-f21f-8aaa9e73a35d",
        "colab": {
          "base_uri": "https://localhost:8080/",
          "height": 324
        }
      },
      "source": [
        "plot_validation_training(\"acc\", trained_model)"
      ],
      "execution_count": 0,
      "outputs": [
        {
          "output_type": "stream",
          "text": [
            "20\n"
          ],
          "name": "stdout"
        },
        {
          "output_type": "display_data",
          "data": {
            "image/png": "[encoded data removed]",
            "text/plain": [
              "<Figure size 432x288 with 1 Axes>"
            ]
          },
          "metadata": {
            "tags": []
          }
        }
      ]
    },
    {
      "cell_type": "code",
      "metadata": {
        "id": "-MA7vadszLZT",
        "colab_type": "code",
        "colab": {}
      },
      "source": [
        "def plot_confusion_matrix(cm, classes,\n",
        "                          normalize=False,\n",
        "                          title='Confusion matrix',\n",
        "                          cmap=plt.cm.Blues):\n",
        "    \"\"\"\n",
        "    This function prints and plots the confusion matrix.\n",
        "    Normalization can be applied by setting `normalize=True`.\n",
        "    \"\"\"\n",
        "    if normalize:\n",
        "        cm = cm.astype('float') / cm.sum(axis=1)[:, np.newaxis]\n",
        "        print(\"Normalized confusion matrix\")\n",
        "    else:\n",
        "        print('Confusion matrix, without normalization')\n",
        "\n",
        "    plt.imshow(cm, interpolation='nearest', cmap=cmap)\n",
        "    plt.title(title)\n",
        "    plt.colorbar()\n",
        "    tick_marks = np.arange(len(classes))\n",
        "    plt.xticks(tick_marks, classes, rotation=45)\n",
        "    plt.yticks(tick_marks, classes)\n",
        "\n",
        "    fmt = '.2f' if normalize else 'd'\n",
        "    thresh = cm.max() / 2.\n",
        "    for i, j in itertools.product(range(cm.shape[0]), range(cm.shape[1])):\n",
        "        plt.text(j, i, format(cm[i, j], fmt),\n",
        "                 horizontalalignment=\"center\",\n",
        "                 color=\"white\" if cm[i, j] > thresh else \"black\")\n",
        "\n",
        "    plt.ylabel('True label')\n",
        "    plt.xlabel('Predicted label')\n",
        "    plt.tight_layout()"
      ],
      "execution_count": 0,
      "outputs": []
    },
    {
      "cell_type": "code",
      "metadata": {
        "id": "Ohwo2DhSzisL",
        "colab_type": "code",
        "colab": {}
      },
      "source": [
        "model.load_weights('epoch=18|accuracy=0.8653.h5')"
      ],
      "execution_count": 0,
      "outputs": []
    },
    {
      "cell_type": "code",
      "metadata": {
        "id": "9Unosajb0GR7",
        "colab_type": "code",
        "colab": {}
      },
      "source": [
        "val_generator.reset()"
      ],
      "execution_count": 0,
      "outputs": []
    },
    {
      "cell_type": "code",
      "metadata": {
        "id": "SwFpLv5hBH4I",
        "colab_type": "code",
        "colab": {
          "base_uri": "https://localhost:8080/",
          "height": 35
        },
        "outputId": "5c691106-9c32-4d05-fb9a-98be7044104d"
      },
      "source": [
        "classes_predicted = model.predict_generator(val_generator, steps=val_steps, verbose=1)"
      ],
      "execution_count": 65,
      "outputs": [
        {
          "output_type": "stream",
          "text": [
            "433/433 [==============================] - 24s 55ms/step\n"
          ],
          "name": "stdout"
        }
      ]
    },
    {
      "cell_type": "code",
      "metadata": {
        "id": "G3EDLsFOBNP3",
        "colab_type": "code",
        "colab": {
          "base_uri": "https://localhost:8080/",
          "height": 145
        },
        "outputId": "123f2bc7-e395-4fad-ff9f-ba3a82253d1f"
      },
      "source": [
        "classes_predicted"
      ],
      "execution_count": 66,
      "outputs": [
        {
          "output_type": "execute_result",
          "data": {
            "text/plain": [
              "array([[0.99342114, 0.00657883],\n",
              "       [0.99565613, 0.00434386],\n",
              "       [0.586969  , 0.413031  ],\n",
              "       ...,\n",
              "       [0.10622225, 0.8937777 ],\n",
              "       [0.05667687, 0.9433232 ],\n",
              "       [0.36089304, 0.639107  ]], dtype=float32)"
            ]
          },
          "metadata": {
            "tags": []
          },
          "execution_count": 66
        }
      ]
    },
    {
      "cell_type": "code",
      "metadata": {
        "id": "sqbzU-M6B1QH",
        "colab_type": "code",
        "colab": {
          "base_uri": "https://localhost:8080/",
          "height": 35
        },
        "outputId": "7cff92d8-f5fa-468d-c58d-2608d8179347"
      },
      "source": [
        "len(classes_predicted)"
      ],
      "execution_count": 67,
      "outputs": [
        {
          "output_type": "execute_result",
          "data": {
            "text/plain": [
              "55424"
            ]
          },
          "metadata": {
            "tags": []
          },
          "execution_count": 67
        }
      ]
    },
    {
      "cell_type": "code",
      "metadata": {
        "id": "ItyIMf6xB77n",
        "colab_type": "code",
        "colab": {}
      },
      "source": [
        "real_classes = np.argmax(classes_predicted, axis=1)"
      ],
      "execution_count": 0,
      "outputs": []
    },
    {
      "cell_type": "code",
      "metadata": {
        "id": "EpImDBGZB-Yo",
        "colab_type": "code",
        "colab": {}
      },
      "source": [
        "val_labels = val_generator.classes"
      ],
      "execution_count": 0,
      "outputs": []
    },
    {
      "cell_type": "code",
      "metadata": {
        "id": "LOQhdasLCC_y",
        "colab_type": "code",
        "colab": {}
      },
      "source": [
        "val_labels = val_labels[:55424]"
      ],
      "execution_count": 0,
      "outputs": []
    },
    {
      "cell_type": "code",
      "metadata": {
        "id": "ZBioKpXrCZVw",
        "colab_type": "code",
        "colab": {
          "base_uri": "https://localhost:8080/",
          "height": 35
        },
        "outputId": "903816b7-097a-4d31-94b2-a0846a63aa12"
      },
      "source": [
        "len(val_labels)"
      ],
      "execution_count": 81,
      "outputs": [
        {
          "output_type": "execute_result",
          "data": {
            "text/plain": [
              "55424"
            ]
          },
          "metadata": {
            "tags": []
          },
          "execution_count": 81
        }
      ]
    },
    {
      "cell_type": "code",
      "metadata": {
        "id": "1xyLQ9QvCdaP",
        "colab_type": "code",
        "colab": {
          "base_uri": "https://localhost:8080/",
          "height": 35
        },
        "outputId": "b45369c9-ff31-4bd1-e8bc-1c3fc2298efe"
      },
      "source": [
        "len(val_labels), len(real_classes)"
      ],
      "execution_count": 84,
      "outputs": [
        {
          "output_type": "execute_result",
          "data": {
            "text/plain": [
              "(55424, 55424)"
            ]
          },
          "metadata": {
            "tags": []
          },
          "execution_count": 84
        }
      ]
    },
    {
      "cell_type": "code",
      "metadata": {
        "id": "-XnmIZHECp53",
        "colab_type": "code",
        "colab": {
          "base_uri": "https://localhost:8080/",
          "height": 35
        },
        "outputId": "d3a9bfe5-0486-444e-dda2-b999e94c1023"
      },
      "source": [
        "val_generator.class_indices"
      ],
      "execution_count": 85,
      "outputs": [
        {
          "output_type": "execute_result",
          "data": {
            "text/plain": [
              "{'benign': 0, 'malignant': 1}"
            ]
          },
          "metadata": {
            "tags": []
          },
          "execution_count": 85
        }
      ]
    },
    {
      "cell_type": "code",
      "metadata": {
        "id": "mTQgoIrrCwan",
        "colab_type": "code",
        "colab": {}
      },
      "source": [
        "classes_names = [\"Benign\", \"Malignant\"]"
      ],
      "execution_count": 0,
      "outputs": []
    },
    {
      "cell_type": "code",
      "metadata": {
        "id": "aKBTP5l3C0nX",
        "colab_type": "code",
        "colab": {
          "base_uri": "https://localhost:8080/",
          "height": 315
        },
        "outputId": "9242f63c-95a8-49a0-ffef-1fcf927dcd60"
      },
      "source": [
        "cm = confusion_matrix(val_labels, real_classes, labels=range(num_classes))\n",
        "plot_confusion_matrix(cm, classes_names)"
      ],
      "execution_count": 89,
      "outputs": [
        {
          "output_type": "stream",
          "text": [
            "Confusion matrix, without normalization\n"
          ],
          "name": "stdout"
        },
        {
          "output_type": "display_data",
          "data": {
            "image/png": "[encoded data removed]",
            "text/plain": [
              "<Figure size 432x288 with 2 Axes>"
            ]
          },
          "metadata": {
            "tags": []
          }
        }
      ]
    },
    {
      "cell_type": "code",
      "metadata": {
        "id": "_CZ7_orPC-Ow",
        "colab_type": "code",
        "colab": {
          "base_uri": "https://localhost:8080/",
          "height": 54
        },
        "outputId": "c2ba5bf6-43fc-4237-b046-198c1170ffe3"
      },
      "source": [
        "sensitivity = cm[0, 0] / (cm[0, 0] + cm[0, 1])\n",
        "print(f'sensitivity: {sensitivity}')\n",
        "\n",
        "specificity = cm[1, 1] / (cm[1, 1] + cm[1, 0])\n",
        "print(f'specifity: {specificity}')"
      ],
      "execution_count": 90,
      "outputs": [
        {
          "output_type": "stream",
          "text": [
            "sensitivity: 0.852215261529172\n",
            "specifity: 0.8724883587421063\n"
          ],
          "name": "stdout"
        }
      ]
    },
    {
      "cell_type": "code",
      "metadata": {
        "id": "vTrAuR-aDoq_",
        "colab_type": "code",
        "colab": {}
      },
      "source": [
        "from sklearn.metrics import classification_report\n"
      ],
      "execution_count": 0,
      "outputs": []
    },
    {
      "cell_type": "code",
      "metadata": {
        "id": "zsax7HTUD4IX",
        "colab_type": "code",
        "colab": {
          "base_uri": "https://localhost:8080/",
          "height": 181
        },
        "outputId": "2cdd245e-2a4a-46c8-9d83-b7b529dad1d1"
      },
      "source": [
        "report = classification_report(val_labels, real_classes, target_names=classes_names)\n",
        "print(report)"
      ],
      "execution_count": 95,
      "outputs": [
        {
          "output_type": "stream",
          "text": [
            "              precision    recall  f1-score   support\n",
            "\n",
            "      Benign       0.94      0.85      0.90     39747\n",
            "   Malignant       0.70      0.87      0.78     15677\n",
            "\n",
            "    accuracy                           0.86     55424\n",
            "   macro avg       0.82      0.86      0.84     55424\n",
            "weighted avg       0.88      0.86      0.86     55424\n",
            "\n"
          ],
          "name": "stdout"
        }
      ]
    },
    {
      "cell_type": "code",
      "metadata": {
        "id": "lasuaxZ3D74B",
        "colab_type": "code",
        "colab": {
          "base_uri": "https://localhost:8080/",
          "height": 35
        },
        "outputId": "d4b41760-c38a-43ef-90b3-ec5192036055"
      },
      "source": [
        "model"
      ],
      "execution_count": 96,
      "outputs": [
        {
          "output_type": "execute_result",
          "data": {
            "text/plain": [
              "<keras.engine.training.Model at 0x7f5425d71dd8>"
            ]
          },
          "metadata": {
            "tags": []
          },
          "execution_count": 96
        }
      ]
    },
    {
      "cell_type": "code",
      "metadata": {
        "id": "pUucHtonEvvY",
        "colab_type": "code",
        "colab": {}
      },
      "source": [
        "model_json = model.to_json()\n",
        "with open(\"breast_cancer_model.json\", \"w\") as json_file:\n",
        "    json_file.write(model_json)"
      ],
      "execution_count": 0,
      "outputs": []
    },
    {
      "cell_type": "code",
      "metadata": {
        "id": "0cACvbb2Ez_A",
        "colab_type": "code",
        "colab": {}
      },
      "source": [
        ""
      ],
      "execution_count": 0,
      "outputs": []
    },
    {
      "cell_type": "code",
      "metadata": {
        "id": "c05KoNN6E3zX",
        "colab_type": "code",
        "colab": {}
      },
      "source": [
        ""
      ],
      "execution_count": 0,
      "outputs": []
    }
  ]
}